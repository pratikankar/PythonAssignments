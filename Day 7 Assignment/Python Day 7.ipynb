{
 "cells": [
  {
   "cell_type": "code",
   "execution_count": 2,
   "metadata": {},
   "outputs": [
    {
     "name": "stdout",
     "output_type": "stream",
     "text": [
      "{'FTP': 21, 'SSH': 22, 'telnet': 23, 'http': 80}\n"
     ]
    }
   ],
   "source": [
    "'''\n",
    "Day 7 Assignment No. 1\n",
    "\n",
    "Use the dictionary,\n",
    "port1 = {21: \"FTP\", 22:\"SSH\", 23: \"telnet\", 80: \"http\"},\n",
    "and make a new dictionary in which keys become values and values become keys,\n",
    "as shown: Port2 = {\"FTP\":21, \"SSH\":22, \"“\"telnet\":23,\"http\": 80}\n",
    "'''\n",
    "\n",
    "Port1 = {21: \"FTP\", 22:\"SSH\", 23: \"telnet\", 80: \"http\"}\n",
    "\n",
    "Port2 = {value:key for key,value in Port1.items()}\n",
    "\n",
    "print(Port2)"
   ]
  },
  {
   "cell_type": "code",
   "execution_count": 7,
   "metadata": {},
   "outputs": [
    {
     "name": "stdout",
     "output_type": "stream",
     "text": [
      "Input List :  [(1, 2), (3, 4), (5, 6), (4, 5)]\n",
      "Output List :  [3, 7, 11, 9]\n"
     ]
    }
   ],
   "source": [
    "'''\n",
    "Day 7 Assignment No. 2\n",
    "\n",
    "Take a list of tuple as shown below.\n",
    "[(1,2), (3,4), (5,6),(4,5)]\n",
    "\n",
    "Make a new list which contains the sum of the number of tuples.\n",
    "'''\n",
    "\n",
    "List1 = [(1,2),(3,4),(5,6),(4,5)]\n",
    "List2 = []\n",
    "\n",
    "print(\"Input List : \",List1)\n",
    "\n",
    "for each in range(0,len(List1)):\n",
    "    x,y = List1[each]\n",
    "    List2.append(x + y)\n",
    "\n",
    "print(\"Output List : \",List2)"
   ]
  },
  {
   "cell_type": "code",
   "execution_count": 8,
   "metadata": {},
   "outputs": [
    {
     "name": "stdout",
     "output_type": "stream",
     "text": [
      "Input List is :  [(1, 2, 3), [1, 2], ['a', 'hit', 'less']]\n",
      "Output List after putting inner content to outer list :  [1, 2, 3, 1, 2, 'a', 'hit', 'less']\n"
     ]
    }
   ],
   "source": [
    "'''\n",
    "Day 7 Assignment No. 3\n",
    "\n",
    "Take a list as shown below\n",
    "[(1,2,3), [1,2], ['a','hit','less']]\n",
    "The List contains tuple and lists. Make the elements of inner lists and tuples to outer list\n",
    "'''\n",
    "\n",
    "List1 = [(1,2,3), [1,2], ['a','hit','less']]\n",
    "print(\"Input List is : \",List1)\n",
    "\n",
    "List2 = [i for each in List1 for i in each ]\n",
    "print (\"Output List after putting inner content to outer list : \",List2)"
   ]
  },
  {
   "cell_type": "code",
   "execution_count": null,
   "metadata": {},
   "outputs": [],
   "source": []
  }
 ],
 "metadata": {
  "kernelspec": {
   "display_name": "Python 3",
   "language": "python",
   "name": "python3"
  },
  "language_info": {
   "codemirror_mode": {
    "name": "ipython",
    "version": 3
   },
   "file_extension": ".py",
   "mimetype": "text/x-python",
   "name": "python",
   "nbconvert_exporter": "python",
   "pygments_lexer": "ipython3",
   "version": "3.7.6"
  }
 },
 "nbformat": 4,
 "nbformat_minor": 4
}
