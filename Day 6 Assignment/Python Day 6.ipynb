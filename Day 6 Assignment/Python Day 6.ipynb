{
 "cells": [
  {
   "cell_type": "code",
   "execution_count": 1,
   "metadata": {},
   "outputs": [
    {
     "name": "stdout",
     "output_type": "stream",
     "text": [
      "{1: 'a', 2: 'b', 3: 'c', 4: 'd', 5: 'e'}\n"
     ]
    }
   ],
   "source": [
    "'''\n",
    "Day 6 Assignment No. 1\n",
    "List1 = [1,2,3,4,5,7,8]\n",
    "List2 = [\"a\", \"b\", \"c\", \"d\", \"e\"]\n",
    "Convert to a dictionary in one line code using list comprehension (without using zip method)\n",
    "'''\n",
    "\n",
    "List1 = [1,2,3,4,5,7,8] \n",
    "List2 = [\"a\",\"b\",\"c\",\"d\",\"e\"]\n",
    "\n",
    "print({List1[i]: List2[i] for i in range(len(List2))})"
   ]
  },
  {
   "cell_type": "code",
   "execution_count": null,
   "metadata": {},
   "outputs": [],
   "source": []
  }
 ],
 "metadata": {
  "kernelspec": {
   "display_name": "Python 3",
   "language": "python",
   "name": "python3"
  },
  "language_info": {
   "codemirror_mode": {
    "name": "ipython",
    "version": 3
   },
   "file_extension": ".py",
   "mimetype": "text/x-python",
   "name": "python",
   "nbconvert_exporter": "python",
   "pygments_lexer": "ipython3",
   "version": "3.7.6"
  }
 },
 "nbformat": 4,
 "nbformat_minor": 4
}
