{
 "cells": [
  {
   "cell_type": "code",
   "execution_count": 22,
   "metadata": {},
   "outputs": [
    {
     "name": "stdout",
     "output_type": "stream",
     "text": [
      "Sorted List with Zeros at the right end of the list :\n",
      "[1, 1, 1, 2, 2, 3, 4, 4, 10, 56, 56, 0, 0, 0, 0, 0]\n"
     ]
    }
   ],
   "source": [
    "\"\"\"\n",
    "Day 5 Assignment No. 1\n",
    "[0,1,2,10,4,1,0,56,2,0,1,3,0,56,0,4]\n",
    "Sort by increasing order but all zeros should be at the right hand side. \n",
    "\"\"\"\n",
    "\n",
    "list1=[0,1,2,10,4,1,0,56,2,0,1,3,0,56,0,4]\n",
    "\n",
    "list1.sort()\n",
    "\n",
    "del list1[0:5]\n",
    "\n",
    "list1.extend((0,0,0,0,0))\n",
    "\n",
    "print(\"Sorted List with Zeros at the right end of the list :\")\n",
    "print(list1)"
   ]
  },
  {
   "cell_type": "code",
   "execution_count": 24,
   "metadata": {},
   "outputs": [
    {
     "name": "stdout",
     "output_type": "stream",
     "text": [
      "Sorted List is :\n",
      "[5, 10, 15, 20, 25, 35, 40, 45, 60, 60, 70, 80]\n"
     ]
    }
   ],
   "source": [
    "\"\"\"\n",
    "Day 5 Assignment No. 2\n",
    "list1=[10,20,40,60,70,80] sorted list\n",
    "list2=[5,15,25,35,45,60] sorted list\n",
    "Merge these two sorted lists to produce one sorted list, but use only loop either while or for only one time.\n",
    "\"\"\"\n",
    "\n",
    "list1 = [10,20,40,60,70,80]\n",
    "list2 = [5,15,25,35,45,60]\n",
    "\n",
    "newList=[]\n",
    "i=0\n",
    "j=0\n",
    "\n",
    "while i<len(list1)and j<len(list2):\n",
    "    if list1[i]<list2[j]:\n",
    "        newList.append(list1[i])\n",
    "        i=i+1\n",
    "    else:\n",
    "        newList.append(list2[j])\n",
    "        j=j+1\n",
    "\n",
    "print(\"Sorted List is :\")\n",
    "print(newList+list1[i:]+list2[j:])"
   ]
  },
  {
   "cell_type": "code",
   "execution_count": null,
   "metadata": {},
   "outputs": [],
   "source": []
  },
  {
   "cell_type": "code",
   "execution_count": null,
   "metadata": {},
   "outputs": [],
   "source": []
  }
 ],
 "metadata": {
  "kernelspec": {
   "display_name": "Python 3",
   "language": "python",
   "name": "python3"
  },
  "language_info": {
   "codemirror_mode": {
    "name": "ipython",
    "version": 3
   },
   "file_extension": ".py",
   "mimetype": "text/x-python",
   "name": "python",
   "nbconvert_exporter": "python",
   "pygments_lexer": "ipython3",
   "version": "3.7.6"
  }
 },
 "nbformat": 4,
 "nbformat_minor": 4
}
