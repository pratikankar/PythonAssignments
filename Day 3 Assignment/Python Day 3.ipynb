{
 "cells": [
  {
   "cell_type": "code",
   "execution_count": 10,
   "metadata": {},
   "outputs": [
    {
     "name": "stdout",
     "output_type": "stream",
     "text": [
      "Enter a number: 10\n",
      "Sum of numbers is = 55\n"
     ]
    }
   ],
   "source": [
    "#Day 3 Assignment 1: Find sum of n numbers with help of while loop.\n",
    "n = int(input('Enter a number: '))\n",
    "\n",
    "sum = 0\n",
    "i = 1\n",
    "\n",
    "while i <= n:\n",
    "    sum=sum+i\n",
    "    i=i+1\n",
    "    \n",
    "print(f\"Sum of numbers is = {sum}\")"
   ]
  },
  {
   "cell_type": "code",
   "execution_count": 11,
   "metadata": {},
   "outputs": [
    {
     "name": "stdout",
     "output_type": "stream",
     "text": [
      "Enter an integer to check :43\n",
      "43 is a Prime Number.\n"
     ]
    }
   ],
   "source": [
    "#Day 3 Assignment 2: Take an integer and find whether the number is prime or not.\n",
    "num = int(input(\"Enter an integer to check :\"))\n",
    "\n",
    "flag=0\n",
    "\n",
    "for i in range(2,num//2+1):\n",
    "    if (num%i)==0:\n",
    "        print(f\"{num} is not a Prime Number.\")\n",
    "        flag = 1\n",
    "        break\n",
    "    else:\n",
    "        i = i+1\n",
    "if flag==0:\n",
    "        print(f\"{num} is a Prime Number.\")"
   ]
  },
  {
   "cell_type": "code",
   "execution_count": 12,
   "metadata": {},
   "outputs": [
    {
     "name": "stdout",
     "output_type": "stream",
     "text": [
      "Enter an integer to check :44\n",
      "44 is not a Prime Number.\n"
     ]
    }
   ],
   "source": [
    "#Day 3 Assignment 2: Take an integer and find whether the number is prime or not.\n",
    "num = int(input(\"Enter an integer to check :\"))\n",
    "\n",
    "flag=0\n",
    "\n",
    "for i in range(2,num//2+1):\n",
    "    if (num%i)==0:\n",
    "        print(f\"{num} is not a Prime Number.\")\n",
    "        flag = 1\n",
    "        break\n",
    "    else:\n",
    "        i = i+1\n",
    "if flag==0:\n",
    "        print(f\"{num} is a Prime Number.\")"
   ]
  },
  {
   "cell_type": "code",
   "execution_count": null,
   "metadata": {},
   "outputs": [],
   "source": []
  }
 ],
 "metadata": {
  "kernelspec": {
   "display_name": "Python 3",
   "language": "python",
   "name": "python3"
  },
  "language_info": {
   "codemirror_mode": {
    "name": "ipython",
    "version": 3
   },
   "file_extension": ".py",
   "mimetype": "text/x-python",
   "name": "python",
   "nbconvert_exporter": "python",
   "pygments_lexer": "ipython3",
   "version": "3.7.6"
  }
 },
 "nbformat": 4,
 "nbformat_minor": 4
}
